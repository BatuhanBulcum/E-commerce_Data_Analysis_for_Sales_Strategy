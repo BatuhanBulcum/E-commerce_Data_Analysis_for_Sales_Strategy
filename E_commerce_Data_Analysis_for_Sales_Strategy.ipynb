{
  "nbformat": 4,
  "nbformat_minor": 0,
  "metadata": {
    "colab": {
      "name": "E-commerce_Data_Analysis_for_Sales_Strategy",
      "provenance": [],
      "collapsed_sections": [
        "eCqKWyoFSj5p",
        "Tifx3xSjIE6k",
        "AxllxzVOMwTO",
        "IkkosZ5mN0MN",
        "u1oc5xbkON0_",
        "QN8nvRF-O9_C"
      ],
      "mount_file_id": "19zCvN3B0ZS1y8qtEltj_9-JXZXpKmbAR",
      "authorship_tag": "ABX9TyP+Hat0zaqsKWPrJHHI9+LQ",
      "include_colab_link": true
    },
    "kernelspec": {
      "name": "python3",
      "display_name": "Python 3"
    },
    "language_info": {
      "name": "python"
    }
  },
  "cells": [
    {
      "cell_type": "markdown",
      "metadata": {
        "id": "view-in-github",
        "colab_type": "text"
      },
      "source": [
        "<a href=\"https://colab.research.google.com/github/BatuhanBulcum/E-commerce_Data_Analysis_for_Sales_Strategy/blob/main/E_commerce_Data_Analysis_for_Sales_Strategy.ipynb\" target=\"_parent\"><img src=\"https://colab.research.google.com/assets/colab-badge.svg\" alt=\"Open In Colab\"/></a>"
      ]
    },
    {
      "cell_type": "markdown",
      "metadata": {
        "id": "eCqKWyoFSj5p"
      },
      "source": [
        "# **E-commerce Data Analysis for Sales Strategy**"
      ]
    },
    {
      "cell_type": "markdown",
      "metadata": {
        "id": "Tifx3xSjIE6k"
      },
      "source": [
        "## **Our goal is to decide on the sales strategy for 2020 based on sales data in 2019.**"
      ]
    },
    {
      "cell_type": "code",
      "metadata": {
        "id": "VOE4ourYckB8"
      },
      "source": [
        "import pandas as pd\n",
        "import matplotlib.pyplot as plt\n",
        "import numpy as np\n",
        "import seaborn as sns"
      ],
      "execution_count": null,
      "outputs": []
    },
    {
      "cell_type": "markdown",
      "metadata": {
        "id": "Y9Jo-QNzKReV"
      },
      "source": [
        "Let's examine Kmart 2019 sales data."
      ]
    },
    {
      "cell_type": "code",
      "metadata": {
        "id": "I2m0R5VfgYAK"
      },
      "source": [
        "df1=pd.read_csv(\"/content/drive/MyDrive/Sales_January_2019.csv\")\n",
        "df1[\"Month\"]=\"Jan\"\n",
        "df2=pd.read_csv(\"/content/drive/MyDrive/Sales_February_2019.csv\")\n",
        "df2[\"Month\"]=\"Feb\"\n",
        "df3=pd.read_csv(\"/content/drive/MyDrive/Sales_March_2019.csv\")\n",
        "df3[\"Month\"]=\"Mar\"\n",
        "df4=pd.read_csv(\"/content/drive/MyDrive/Sales_April_2019.csv\")\n",
        "df4[\"Month\"]=\"Apr\"\n",
        "df5=pd.read_csv(\"/content/drive/MyDrive/Sales_May_2019.csv\")\n",
        "df5[\"Month\"]=\"May\"\n",
        "df6=pd.read_csv(\"/content/drive/MyDrive/Sales_June_2019.csv\")\n",
        "df6[\"Month\"]=\"June\"\n",
        "df7=pd.read_csv(\"/content/drive/MyDrive/Sales_July_2019.csv\")\n",
        "df7[\"Month\"]=\"July\"\n",
        "df8=pd.read_csv(\"/content/drive/MyDrive/Sales_August_2019.csv\")\n",
        "df8[\"Month\"]=\"Aug\"\n",
        "df9=pd.read_csv(\"/content/drive/MyDrive/Sales_September_2019.csv\")\n",
        "df9[\"Month\"]=\"Sep\"\n",
        "df10=pd.read_csv(\"/content/drive/MyDrive/Sales_October_2019.csv\")\n",
        "df10[\"Month\"]=\"Oct\"\n",
        "df11=pd.read_csv(\"/content/drive/MyDrive/Sales_November_2019.csv\")\n",
        "df11[\"Month\"]=\"Nov\"\n",
        "df12=pd.read_csv(\"/content/drive/MyDrive/Sales_December_2019.csv\")\n",
        "df12[\"Month\"]=\"Dec\""
      ],
      "execution_count": null,
      "outputs": []
    },
    {
      "cell_type": "code",
      "metadata": {
        "id": "2UYNJjNpcpBV",
        "colab": {
          "base_uri": "https://localhost:8080/"
        },
        "outputId": "51182422-bb32-406c-c003-0cbdd916b013"
      },
      "source": [
        "list = [df1,df2,df3,df4,df5,df6,df7,df8,df9,df10,df11,df12]\n",
        "Dataframe=pd.concat(list)\n",
        "Dataframe"
      ],
      "execution_count": null,
      "outputs": [
        {
          "output_type": "execute_result",
          "data": {
            "text/html": [
              "<div>\n",
              "<style scoped>\n",
              "    .dataframe tbody tr th:only-of-type {\n",
              "        vertical-align: middle;\n",
              "    }\n",
              "\n",
              "    .dataframe tbody tr th {\n",
              "        vertical-align: top;\n",
              "    }\n",
              "\n",
              "    .dataframe thead th {\n",
              "        text-align: right;\n",
              "    }\n",
              "</style>\n",
              "<table border=\"1\" class=\"dataframe\">\n",
              "  <thead>\n",
              "    <tr style=\"text-align: right;\">\n",
              "      <th></th>\n",
              "      <th>Order ID</th>\n",
              "      <th>Product</th>\n",
              "      <th>Quantity Ordered</th>\n",
              "      <th>Price Each</th>\n",
              "      <th>Order Date</th>\n",
              "      <th>Purchase Address</th>\n",
              "      <th>Month</th>\n",
              "    </tr>\n",
              "  </thead>\n",
              "  <tbody>\n",
              "    <tr>\n",
              "      <th>0</th>\n",
              "      <td>141234</td>\n",
              "      <td>iPhone</td>\n",
              "      <td>1</td>\n",
              "      <td>700</td>\n",
              "      <td>01/22/19 21:25</td>\n",
              "      <td>944 Walnut St, Boston, MA 02215</td>\n",
              "      <td>Jan</td>\n",
              "    </tr>\n",
              "    <tr>\n",
              "      <th>1</th>\n",
              "      <td>141235</td>\n",
              "      <td>Lightning Charging Cable</td>\n",
              "      <td>1</td>\n",
              "      <td>14.95</td>\n",
              "      <td>01/28/19 14:15</td>\n",
              "      <td>185 Maple St, Portland, OR 97035</td>\n",
              "      <td>Jan</td>\n",
              "    </tr>\n",
              "    <tr>\n",
              "      <th>2</th>\n",
              "      <td>141236</td>\n",
              "      <td>Wired Headphones</td>\n",
              "      <td>2</td>\n",
              "      <td>11.99</td>\n",
              "      <td>01/17/19 13:33</td>\n",
              "      <td>538 Adams St, San Francisco, CA 94016</td>\n",
              "      <td>Jan</td>\n",
              "    </tr>\n",
              "    <tr>\n",
              "      <th>3</th>\n",
              "      <td>141237</td>\n",
              "      <td>27in FHD Monitor</td>\n",
              "      <td>1</td>\n",
              "      <td>149.99</td>\n",
              "      <td>01/05/19 20:33</td>\n",
              "      <td>738 10th St, Los Angeles, CA 90001</td>\n",
              "      <td>Jan</td>\n",
              "    </tr>\n",
              "    <tr>\n",
              "      <th>4</th>\n",
              "      <td>141238</td>\n",
              "      <td>Wired Headphones</td>\n",
              "      <td>1</td>\n",
              "      <td>11.99</td>\n",
              "      <td>01/25/19 11:59</td>\n",
              "      <td>387 10th St, Austin, TX 73301</td>\n",
              "      <td>Jan</td>\n",
              "    </tr>\n",
              "    <tr>\n",
              "      <th>...</th>\n",
              "      <td>...</td>\n",
              "      <td>...</td>\n",
              "      <td>...</td>\n",
              "      <td>...</td>\n",
              "      <td>...</td>\n",
              "      <td>...</td>\n",
              "      <td>...</td>\n",
              "    </tr>\n",
              "    <tr>\n",
              "      <th>25112</th>\n",
              "      <td>319666</td>\n",
              "      <td>Lightning Charging Cable</td>\n",
              "      <td>1</td>\n",
              "      <td>14.95</td>\n",
              "      <td>12/11/19 20:58</td>\n",
              "      <td>14 Madison St, San Francisco, CA 94016</td>\n",
              "      <td>Dec</td>\n",
              "    </tr>\n",
              "    <tr>\n",
              "      <th>25113</th>\n",
              "      <td>319667</td>\n",
              "      <td>AA Batteries (4-pack)</td>\n",
              "      <td>2</td>\n",
              "      <td>3.84</td>\n",
              "      <td>12/01/19 12:01</td>\n",
              "      <td>549 Willow St, Los Angeles, CA 90001</td>\n",
              "      <td>Dec</td>\n",
              "    </tr>\n",
              "    <tr>\n",
              "      <th>25114</th>\n",
              "      <td>319668</td>\n",
              "      <td>Vareebadd Phone</td>\n",
              "      <td>1</td>\n",
              "      <td>400</td>\n",
              "      <td>12/09/19 06:43</td>\n",
              "      <td>273 Wilson St, Seattle, WA 98101</td>\n",
              "      <td>Dec</td>\n",
              "    </tr>\n",
              "    <tr>\n",
              "      <th>25115</th>\n",
              "      <td>319669</td>\n",
              "      <td>Wired Headphones</td>\n",
              "      <td>1</td>\n",
              "      <td>11.99</td>\n",
              "      <td>12/03/19 10:39</td>\n",
              "      <td>778 River St, Dallas, TX 75001</td>\n",
              "      <td>Dec</td>\n",
              "    </tr>\n",
              "    <tr>\n",
              "      <th>25116</th>\n",
              "      <td>319670</td>\n",
              "      <td>Bose SoundSport Headphones</td>\n",
              "      <td>1</td>\n",
              "      <td>99.99</td>\n",
              "      <td>12/21/19 21:45</td>\n",
              "      <td>747 Chestnut St, Los Angeles, CA 90001</td>\n",
              "      <td>Dec</td>\n",
              "    </tr>\n",
              "  </tbody>\n",
              "</table>\n",
              "<p>186850 rows × 7 columns</p>\n",
              "</div>"
            ],
            "text/plain": [
              "      Order ID  ... Month\n",
              "0       141234  ...   Jan\n",
              "1       141235  ...   Jan\n",
              "2       141236  ...   Jan\n",
              "3       141237  ...   Jan\n",
              "4       141238  ...   Jan\n",
              "...        ...  ...   ...\n",
              "25112   319666  ...   Dec\n",
              "25113   319667  ...   Dec\n",
              "25114   319668  ...   Dec\n",
              "25115   319669  ...   Dec\n",
              "25116   319670  ...   Dec\n",
              "\n",
              "[186850 rows x 7 columns]"
            ]
          },
          "metadata": {
            "tags": []
          },
          "execution_count": 23
        }
      ]
    },
    {
      "cell_type": "markdown",
      "metadata": {
        "id": "qiUO-HGgKjmO"
      },
      "source": [
        "Let's check the NaN values."
      ]
    },
    {
      "cell_type": "code",
      "metadata": {
        "id": "8MGFpae7fKMp",
        "colab": {
          "base_uri": "https://localhost:8080/"
        },
        "outputId": "f27762ad-82f4-4f9a-bbae-b02630dec65a"
      },
      "source": [
        "Dataframe.isnull().any()"
      ],
      "execution_count": null,
      "outputs": [
        {
          "output_type": "execute_result",
          "data": {
            "text/plain": [
              "Order ID             True\n",
              "Product              True\n",
              "Quantity Ordered     True\n",
              "Price Each           True\n",
              "Order Date           True\n",
              "Purchase Address     True\n",
              "Month               False\n",
              "dtype: bool"
            ]
          },
          "metadata": {
            "tags": []
          },
          "execution_count": 24
        }
      ]
    },
    {
      "cell_type": "markdown",
      "metadata": {
        "id": "ZTF_qXwFKvoa"
      },
      "source": [
        "Subtract the NaN values."
      ]
    },
    {
      "cell_type": "code",
      "metadata": {
        "id": "z8-HM9tFfKEM"
      },
      "source": [
        "Dataframe.dropna(subset = [\"Order ID\",\"Product\",\"Quantity Ordered\",\"Price Each\",\"Order Date\",\"Purchase Address\"], inplace=True)"
      ],
      "execution_count": null,
      "outputs": []
    },
    {
      "cell_type": "code",
      "metadata": {
        "colab": {
          "base_uri": "https://localhost:8080/"
        },
        "id": "lXZHxPcth0qo",
        "outputId": "17c241d9-8d08-4dfb-aa26-aa2dcc9ec408"
      },
      "source": [
        "Dataframe.isnull().any()"
      ],
      "execution_count": null,
      "outputs": [
        {
          "output_type": "execute_result",
          "data": {
            "text/plain": [
              "Order ID            False\n",
              "Product             False\n",
              "Quantity Ordered    False\n",
              "Price Each          False\n",
              "Order Date          False\n",
              "Purchase Address    False\n",
              "Month               False\n",
              "dtype: bool"
            ]
          },
          "metadata": {
            "tags": []
          },
          "execution_count": 26
        }
      ]
    },
    {
      "cell_type": "markdown",
      "metadata": {
        "id": "smVL-v7vLVhL"
      },
      "source": [
        "Subtract the values that are the same as the title."
      ]
    },
    {
      "cell_type": "code",
      "metadata": {
        "id": "ux4qKZmYolC5"
      },
      "source": [
        "Dataframe_filtered = Dataframe[Dataframe['Price Each'] != \"Price Each\"] "
      ],
      "execution_count": null,
      "outputs": []
    },
    {
      "cell_type": "code",
      "metadata": {
        "colab": {
          "base_uri": "https://localhost:8080/"
        },
        "id": "R68EeaHrFfwO",
        "outputId": "46e87658-4d2a-4a84-fd02-4a5f9853c8e5"
      },
      "source": [
        "Dataframe_filtered.dtypes"
      ],
      "execution_count": null,
      "outputs": [
        {
          "output_type": "execute_result",
          "data": {
            "text/plain": [
              "Order ID            object\n",
              "Product             object\n",
              "Quantity Ordered    object\n",
              "Price Each          object\n",
              "Order Date          object\n",
              "Purchase Address    object\n",
              "Month               object\n",
              "dtype: object"
            ]
          },
          "metadata": {
            "tags": []
          },
          "execution_count": 28
        }
      ]
    },
    {
      "cell_type": "markdown",
      "metadata": {
        "id": "so1vtgSpGCb8"
      },
      "source": [
        "Editing the data type."
      ]
    },
    {
      "cell_type": "code",
      "metadata": {
        "colab": {
          "base_uri": "https://localhost:8080/"
        },
        "id": "I7xoEiLUnaaB",
        "outputId": "8e5631a5-bacc-4194-a18d-dcca6b283335"
      },
      "source": [
        "Dataframe_filtered[\"Quantity Ordered\"]=Dataframe_filtered[\"Quantity Ordered\"].astype(\"float\")\n",
        "Dataframe_filtered[\"Price Each\"]=Dataframe_filtered[\"Price Each\"].astype(\"float\")\n",
        "Dataframe_filtered[\"Sales\"]=Dataframe_filtered[\"Quantity Ordered\"]*Dataframe_filtered[\"Price Each\"]"
      ],
      "execution_count": null,
      "outputs": [
        {
          "output_type": "stream",
          "text": [
            "/usr/local/lib/python3.7/dist-packages/ipykernel_launcher.py:1: SettingWithCopyWarning: \n",
            "A value is trying to be set on a copy of a slice from a DataFrame.\n",
            "Try using .loc[row_indexer,col_indexer] = value instead\n",
            "\n",
            "See the caveats in the documentation: https://pandas.pydata.org/pandas-docs/stable/user_guide/indexing.html#returning-a-view-versus-a-copy\n",
            "  \"\"\"Entry point for launching an IPython kernel.\n",
            "/usr/local/lib/python3.7/dist-packages/ipykernel_launcher.py:2: SettingWithCopyWarning: \n",
            "A value is trying to be set on a copy of a slice from a DataFrame.\n",
            "Try using .loc[row_indexer,col_indexer] = value instead\n",
            "\n",
            "See the caveats in the documentation: https://pandas.pydata.org/pandas-docs/stable/user_guide/indexing.html#returning-a-view-versus-a-copy\n",
            "  \n",
            "/usr/local/lib/python3.7/dist-packages/ipykernel_launcher.py:3: SettingWithCopyWarning: \n",
            "A value is trying to be set on a copy of a slice from a DataFrame.\n",
            "Try using .loc[row_indexer,col_indexer] = value instead\n",
            "\n",
            "See the caveats in the documentation: https://pandas.pydata.org/pandas-docs/stable/user_guide/indexing.html#returning-a-view-versus-a-copy\n",
            "  This is separate from the ipykernel package so we can avoid doing imports until\n"
          ],
          "name": "stderr"
        }
      ]
    },
    {
      "cell_type": "markdown",
      "metadata": {
        "id": "xJ4rzOJEL5hh"
      },
      "source": [
        "Examine the data after editing."
      ]
    },
    {
      "cell_type": "code",
      "metadata": {
        "colab": {
          "base_uri": "https://localhost:8080/"
        },
        "id": "uidAZZMgL40k",
        "outputId": "26515c3b-17ca-4563-9613-319cdef990a1"
      },
      "source": [
        "Dataframe_filtered"
      ],
      "execution_count": null,
      "outputs": [
        {
          "output_type": "execute_result",
          "data": {
            "text/html": [
              "<div>\n",
              "<style scoped>\n",
              "    .dataframe tbody tr th:only-of-type {\n",
              "        vertical-align: middle;\n",
              "    }\n",
              "\n",
              "    .dataframe tbody tr th {\n",
              "        vertical-align: top;\n",
              "    }\n",
              "\n",
              "    .dataframe thead th {\n",
              "        text-align: right;\n",
              "    }\n",
              "</style>\n",
              "<table border=\"1\" class=\"dataframe\">\n",
              "  <thead>\n",
              "    <tr style=\"text-align: right;\">\n",
              "      <th></th>\n",
              "      <th>Order ID</th>\n",
              "      <th>Product</th>\n",
              "      <th>Quantity Ordered</th>\n",
              "      <th>Price Each</th>\n",
              "      <th>Order Date</th>\n",
              "      <th>Purchase Address</th>\n",
              "      <th>Month</th>\n",
              "      <th>Sales</th>\n",
              "    </tr>\n",
              "  </thead>\n",
              "  <tbody>\n",
              "    <tr>\n",
              "      <th>0</th>\n",
              "      <td>141234</td>\n",
              "      <td>iPhone</td>\n",
              "      <td>1.0</td>\n",
              "      <td>700.00</td>\n",
              "      <td>01/22/19 21:25</td>\n",
              "      <td>944 Walnut St, Boston, MA 02215</td>\n",
              "      <td>Jan</td>\n",
              "      <td>700.00</td>\n",
              "    </tr>\n",
              "    <tr>\n",
              "      <th>1</th>\n",
              "      <td>141235</td>\n",
              "      <td>Lightning Charging Cable</td>\n",
              "      <td>1.0</td>\n",
              "      <td>14.95</td>\n",
              "      <td>01/28/19 14:15</td>\n",
              "      <td>185 Maple St, Portland, OR 97035</td>\n",
              "      <td>Jan</td>\n",
              "      <td>14.95</td>\n",
              "    </tr>\n",
              "    <tr>\n",
              "      <th>2</th>\n",
              "      <td>141236</td>\n",
              "      <td>Wired Headphones</td>\n",
              "      <td>2.0</td>\n",
              "      <td>11.99</td>\n",
              "      <td>01/17/19 13:33</td>\n",
              "      <td>538 Adams St, San Francisco, CA 94016</td>\n",
              "      <td>Jan</td>\n",
              "      <td>23.98</td>\n",
              "    </tr>\n",
              "    <tr>\n",
              "      <th>3</th>\n",
              "      <td>141237</td>\n",
              "      <td>27in FHD Monitor</td>\n",
              "      <td>1.0</td>\n",
              "      <td>149.99</td>\n",
              "      <td>01/05/19 20:33</td>\n",
              "      <td>738 10th St, Los Angeles, CA 90001</td>\n",
              "      <td>Jan</td>\n",
              "      <td>149.99</td>\n",
              "    </tr>\n",
              "    <tr>\n",
              "      <th>4</th>\n",
              "      <td>141238</td>\n",
              "      <td>Wired Headphones</td>\n",
              "      <td>1.0</td>\n",
              "      <td>11.99</td>\n",
              "      <td>01/25/19 11:59</td>\n",
              "      <td>387 10th St, Austin, TX 73301</td>\n",
              "      <td>Jan</td>\n",
              "      <td>11.99</td>\n",
              "    </tr>\n",
              "    <tr>\n",
              "      <th>...</th>\n",
              "      <td>...</td>\n",
              "      <td>...</td>\n",
              "      <td>...</td>\n",
              "      <td>...</td>\n",
              "      <td>...</td>\n",
              "      <td>...</td>\n",
              "      <td>...</td>\n",
              "      <td>...</td>\n",
              "    </tr>\n",
              "    <tr>\n",
              "      <th>25112</th>\n",
              "      <td>319666</td>\n",
              "      <td>Lightning Charging Cable</td>\n",
              "      <td>1.0</td>\n",
              "      <td>14.95</td>\n",
              "      <td>12/11/19 20:58</td>\n",
              "      <td>14 Madison St, San Francisco, CA 94016</td>\n",
              "      <td>Dec</td>\n",
              "      <td>14.95</td>\n",
              "    </tr>\n",
              "    <tr>\n",
              "      <th>25113</th>\n",
              "      <td>319667</td>\n",
              "      <td>AA Batteries (4-pack)</td>\n",
              "      <td>2.0</td>\n",
              "      <td>3.84</td>\n",
              "      <td>12/01/19 12:01</td>\n",
              "      <td>549 Willow St, Los Angeles, CA 90001</td>\n",
              "      <td>Dec</td>\n",
              "      <td>7.68</td>\n",
              "    </tr>\n",
              "    <tr>\n",
              "      <th>25114</th>\n",
              "      <td>319668</td>\n",
              "      <td>Vareebadd Phone</td>\n",
              "      <td>1.0</td>\n",
              "      <td>400.00</td>\n",
              "      <td>12/09/19 06:43</td>\n",
              "      <td>273 Wilson St, Seattle, WA 98101</td>\n",
              "      <td>Dec</td>\n",
              "      <td>400.00</td>\n",
              "    </tr>\n",
              "    <tr>\n",
              "      <th>25115</th>\n",
              "      <td>319669</td>\n",
              "      <td>Wired Headphones</td>\n",
              "      <td>1.0</td>\n",
              "      <td>11.99</td>\n",
              "      <td>12/03/19 10:39</td>\n",
              "      <td>778 River St, Dallas, TX 75001</td>\n",
              "      <td>Dec</td>\n",
              "      <td>11.99</td>\n",
              "    </tr>\n",
              "    <tr>\n",
              "      <th>25116</th>\n",
              "      <td>319670</td>\n",
              "      <td>Bose SoundSport Headphones</td>\n",
              "      <td>1.0</td>\n",
              "      <td>99.99</td>\n",
              "      <td>12/21/19 21:45</td>\n",
              "      <td>747 Chestnut St, Los Angeles, CA 90001</td>\n",
              "      <td>Dec</td>\n",
              "      <td>99.99</td>\n",
              "    </tr>\n",
              "  </tbody>\n",
              "</table>\n",
              "<p>185950 rows × 8 columns</p>\n",
              "</div>"
            ],
            "text/plain": [
              "      Order ID                     Product  ...  Month   Sales\n",
              "0       141234                      iPhone  ...    Jan  700.00\n",
              "1       141235    Lightning Charging Cable  ...    Jan   14.95\n",
              "2       141236            Wired Headphones  ...    Jan   23.98\n",
              "3       141237            27in FHD Monitor  ...    Jan  149.99\n",
              "4       141238            Wired Headphones  ...    Jan   11.99\n",
              "...        ...                         ...  ...    ...     ...\n",
              "25112   319666    Lightning Charging Cable  ...    Dec   14.95\n",
              "25113   319667       AA Batteries (4-pack)  ...    Dec    7.68\n",
              "25114   319668             Vareebadd Phone  ...    Dec  400.00\n",
              "25115   319669            Wired Headphones  ...    Dec   11.99\n",
              "25116   319670  Bose SoundSport Headphones  ...    Dec   99.99\n",
              "\n",
              "[185950 rows x 8 columns]"
            ]
          },
          "metadata": {
            "tags": []
          },
          "execution_count": 30
        }
      ]
    },
    {
      "cell_type": "markdown",
      "metadata": {
        "id": "AxllxzVOMwTO"
      },
      "source": [
        "## **Which is the best selling month ?**"
      ]
    },
    {
      "cell_type": "code",
      "metadata": {
        "colab": {
          "base_uri": "https://localhost:8080/"
        },
        "id": "b46ICnYZ7-Hq",
        "outputId": "7ab165a6-5a86-406b-cc67-be1b689303c0"
      },
      "source": [
        "df_month=Dataframe_filtered.groupby([\"Month\"])['Sales'].sum().sort_values(ascending=False)\n",
        "df_month=df_month.to_frame()\n",
        "df_month"
      ],
      "execution_count": null,
      "outputs": [
        {
          "output_type": "execute_result",
          "data": {
            "text/html": [
              "<div>\n",
              "<style scoped>\n",
              "    .dataframe tbody tr th:only-of-type {\n",
              "        vertical-align: middle;\n",
              "    }\n",
              "\n",
              "    .dataframe tbody tr th {\n",
              "        vertical-align: top;\n",
              "    }\n",
              "\n",
              "    .dataframe thead th {\n",
              "        text-align: right;\n",
              "    }\n",
              "</style>\n",
              "<table border=\"1\" class=\"dataframe\">\n",
              "  <thead>\n",
              "    <tr style=\"text-align: right;\">\n",
              "      <th></th>\n",
              "      <th>Sales</th>\n",
              "    </tr>\n",
              "    <tr>\n",
              "      <th>Month</th>\n",
              "      <th></th>\n",
              "    </tr>\n",
              "  </thead>\n",
              "  <tbody>\n",
              "    <tr>\n",
              "      <th>Dec</th>\n",
              "      <td>4.619297e+06</td>\n",
              "    </tr>\n",
              "    <tr>\n",
              "      <th>Oct</th>\n",
              "      <td>3.736884e+06</td>\n",
              "    </tr>\n",
              "    <tr>\n",
              "      <th>Apr</th>\n",
              "      <td>3.396059e+06</td>\n",
              "    </tr>\n",
              "    <tr>\n",
              "      <th>Nov</th>\n",
              "      <td>3.198909e+06</td>\n",
              "    </tr>\n",
              "    <tr>\n",
              "      <th>May</th>\n",
              "      <td>3.144585e+06</td>\n",
              "    </tr>\n",
              "    <tr>\n",
              "      <th>Mar</th>\n",
              "      <td>2.809063e+06</td>\n",
              "    </tr>\n",
              "    <tr>\n",
              "      <th>July</th>\n",
              "      <td>2.646900e+06</td>\n",
              "    </tr>\n",
              "    <tr>\n",
              "      <th>June</th>\n",
              "      <td>2.578293e+06</td>\n",
              "    </tr>\n",
              "    <tr>\n",
              "      <th>Aug</th>\n",
              "      <td>2.244412e+06</td>\n",
              "    </tr>\n",
              "    <tr>\n",
              "      <th>Feb</th>\n",
              "      <td>2.203481e+06</td>\n",
              "    </tr>\n",
              "    <tr>\n",
              "      <th>Sep</th>\n",
              "      <td>2.098817e+06</td>\n",
              "    </tr>\n",
              "    <tr>\n",
              "      <th>Jan</th>\n",
              "      <td>1.815335e+06</td>\n",
              "    </tr>\n",
              "  </tbody>\n",
              "</table>\n",
              "</div>"
            ],
            "text/plain": [
              "              Sales\n",
              "Month              \n",
              "Dec    4.619297e+06\n",
              "Oct    3.736884e+06\n",
              "Apr    3.396059e+06\n",
              "Nov    3.198909e+06\n",
              "May    3.144585e+06\n",
              "Mar    2.809063e+06\n",
              "July   2.646900e+06\n",
              "June   2.578293e+06\n",
              "Aug    2.244412e+06\n",
              "Feb    2.203481e+06\n",
              "Sep    2.098817e+06\n",
              "Jan    1.815335e+06"
            ]
          },
          "metadata": {
            "tags": []
          },
          "execution_count": 31
        }
      ]
    },
    {
      "cell_type": "markdown",
      "metadata": {
        "id": "1G4zeYDiTcfR"
      },
      "source": [
        "The most sales were in December."
      ]
    },
    {
      "cell_type": "markdown",
      "metadata": {
        "id": "vsYh2QQhNNjR"
      },
      "source": [
        "**How much has been earned ?**"
      ]
    },
    {
      "cell_type": "code",
      "metadata": {
        "colab": {
          "base_uri": "https://localhost:8080/"
        },
        "id": "MY3Peni9xFGI",
        "outputId": "5494dafc-6112-42db-e969-e33e1a0a5da6"
      },
      "source": [
        "fig = plt.figure(figsize = (15, 8))\n",
        "Month=[\"Dec\",\"Oct\",\"Apr\",\"Nov\",\"May\",\"Mar\",\"July\",\"June\",\"Aug\",'Feb',\"Sep\",\"Jan\"] \n",
        "df_month[\"Month\"]=Month\n",
        "sns.barplot(x = \"Month\",y = \"Sales\",data = df_month)\n",
        "plt.title(\"Month wise Sale\")\n",
        "plt.show()"
      ],
      "execution_count": null,
      "outputs": [
        {
          "output_type": "display_data",
          "data": {
            "image/png": "[encoded data removed]",
            "text/plain": [
              "<Figure size 1080x576 with 1 Axes>"
            ]
          },
          "metadata": {
            "tags": [],
            "needs_background": "light"
          }
        }
      ]
    },
    {
      "cell_type": "code",
      "metadata": {
        "id": "Z_J_Hjwomyta",
        "colab": {
          "base_uri": "https://localhost:8080/"
        },
        "outputId": "79da6979-edad-4b4c-ec1b-fd69424215e6"
      },
      "source": [
        "Dec = Dataframe_filtered[Dataframe_filtered.Month == 'Dec']\n",
        "sales = Dec.Sales\n",
        "print(\"Total Sales in December= \",sales.sum())"
      ],
      "execution_count": null,
      "outputs": [
        {
          "output_type": "stream",
          "text": [
            "Total Sales in December=  4619297.119999999\n"
          ],
          "name": "stdout"
        }
      ]
    },
    {
      "cell_type": "markdown",
      "metadata": {
        "id": "IkkosZ5mN0MN"
      },
      "source": [
        "## **Which city has the most purchases ?**"
      ]
    },
    {
      "cell_type": "markdown",
      "metadata": {
        "id": "llXr9YvTUchF"
      },
      "source": [
        "Find out in which cities the sales are taking place."
      ]
    },
    {
      "cell_type": "code",
      "metadata": {
        "id": "vaPZA4kbmyrA",
        "colab": {
          "base_uri": "https://localhost:8080/"
        },
        "outputId": "135b19ce-5241-4ca3-e615-e35946f27c46"
      },
      "source": [
        "df_city = Dataframe_filtered\n",
        "City = []\n",
        "for i in df_city['Purchase Address']:\n",
        "    City.append(i.split(\",\")[1])\n",
        "df_city['City'] = City\n",
        "df_city"
      ],
      "execution_count": null,
      "outputs": [
        {
          "output_type": "stream",
          "text": [
            "/usr/local/lib/python3.7/dist-packages/ipykernel_launcher.py:5: SettingWithCopyWarning: \n",
            "A value is trying to be set on a copy of a slice from a DataFrame.\n",
            "Try using .loc[row_indexer,col_indexer] = value instead\n",
            "\n",
            "See the caveats in the documentation: https://pandas.pydata.org/pandas-docs/stable/user_guide/indexing.html#returning-a-view-versus-a-copy\n",
            "  \"\"\"\n"
          ],
          "name": "stderr"
        },
        {
          "output_type": "execute_result",
          "data": {
            "text/html": [
              "<div>\n",
              "<style scoped>\n",
              "    .dataframe tbody tr th:only-of-type {\n",
              "        vertical-align: middle;\n",
              "    }\n",
              "\n",
              "    .dataframe tbody tr th {\n",
              "        vertical-align: top;\n",
              "    }\n",
              "\n",
              "    .dataframe thead th {\n",
              "        text-align: right;\n",
              "    }\n",
              "</style>\n",
              "<table border=\"1\" class=\"dataframe\">\n",
              "  <thead>\n",
              "    <tr style=\"text-align: right;\">\n",
              "      <th></th>\n",
              "      <th>Order ID</th>\n",
              "      <th>Product</th>\n",
              "      <th>Quantity Ordered</th>\n",
              "      <th>Price Each</th>\n",
              "      <th>Order Date</th>\n",
              "      <th>Purchase Address</th>\n",
              "      <th>Month</th>\n",
              "      <th>Sales</th>\n",
              "      <th>City</th>\n",
              "    </tr>\n",
              "  </thead>\n",
              "  <tbody>\n",
              "    <tr>\n",
              "      <th>0</th>\n",
              "      <td>141234</td>\n",
              "      <td>iPhone</td>\n",
              "      <td>1.0</td>\n",
              "      <td>700.00</td>\n",
              "      <td>01/22/19 21:25</td>\n",
              "      <td>944 Walnut St, Boston, MA 02215</td>\n",
              "      <td>Jan</td>\n",
              "      <td>700.00</td>\n",
              "      <td>Boston</td>\n",
              "    </tr>\n",
              "    <tr>\n",
              "      <th>1</th>\n",
              "      <td>141235</td>\n",
              "      <td>Lightning Charging Cable</td>\n",
              "      <td>1.0</td>\n",
              "      <td>14.95</td>\n",
              "      <td>01/28/19 14:15</td>\n",
              "      <td>185 Maple St, Portland, OR 97035</td>\n",
              "      <td>Jan</td>\n",
              "      <td>14.95</td>\n",
              "      <td>Portland</td>\n",
              "    </tr>\n",
              "    <tr>\n",
              "      <th>2</th>\n",
              "      <td>141236</td>\n",
              "      <td>Wired Headphones</td>\n",
              "      <td>2.0</td>\n",
              "      <td>11.99</td>\n",
              "      <td>01/17/19 13:33</td>\n",
              "      <td>538 Adams St, San Francisco, CA 94016</td>\n",
              "      <td>Jan</td>\n",
              "      <td>23.98</td>\n",
              "      <td>San Francisco</td>\n",
              "    </tr>\n",
              "    <tr>\n",
              "      <th>3</th>\n",
              "      <td>141237</td>\n",
              "      <td>27in FHD Monitor</td>\n",
              "      <td>1.0</td>\n",
              "      <td>149.99</td>\n",
              "      <td>01/05/19 20:33</td>\n",
              "      <td>738 10th St, Los Angeles, CA 90001</td>\n",
              "      <td>Jan</td>\n",
              "      <td>149.99</td>\n",
              "      <td>Los Angeles</td>\n",
              "    </tr>\n",
              "    <tr>\n",
              "      <th>4</th>\n",
              "      <td>141238</td>\n",
              "      <td>Wired Headphones</td>\n",
              "      <td>1.0</td>\n",
              "      <td>11.99</td>\n",
              "      <td>01/25/19 11:59</td>\n",
              "      <td>387 10th St, Austin, TX 73301</td>\n",
              "      <td>Jan</td>\n",
              "      <td>11.99</td>\n",
              "      <td>Austin</td>\n",
              "    </tr>\n",
              "    <tr>\n",
              "      <th>...</th>\n",
              "      <td>...</td>\n",
              "      <td>...</td>\n",
              "      <td>...</td>\n",
              "      <td>...</td>\n",
              "      <td>...</td>\n",
              "      <td>...</td>\n",
              "      <td>...</td>\n",
              "      <td>...</td>\n",
              "      <td>...</td>\n",
              "    </tr>\n",
              "    <tr>\n",
              "      <th>25112</th>\n",
              "      <td>319666</td>\n",
              "      <td>Lightning Charging Cable</td>\n",
              "      <td>1.0</td>\n",
              "      <td>14.95</td>\n",
              "      <td>12/11/19 20:58</td>\n",
              "      <td>14 Madison St, San Francisco, CA 94016</td>\n",
              "      <td>Dec</td>\n",
              "      <td>14.95</td>\n",
              "      <td>San Francisco</td>\n",
              "    </tr>\n",
              "    <tr>\n",
              "      <th>25113</th>\n",
              "      <td>319667</td>\n",
              "      <td>AA Batteries (4-pack)</td>\n",
              "      <td>2.0</td>\n",
              "      <td>3.84</td>\n",
              "      <td>12/01/19 12:01</td>\n",
              "      <td>549 Willow St, Los Angeles, CA 90001</td>\n",
              "      <td>Dec</td>\n",
              "      <td>7.68</td>\n",
              "      <td>Los Angeles</td>\n",
              "    </tr>\n",
              "    <tr>\n",
              "      <th>25114</th>\n",
              "      <td>319668</td>\n",
              "      <td>Vareebadd Phone</td>\n",
              "      <td>1.0</td>\n",
              "      <td>400.00</td>\n",
              "      <td>12/09/19 06:43</td>\n",
              "      <td>273 Wilson St, Seattle, WA 98101</td>\n",
              "      <td>Dec</td>\n",
              "      <td>400.00</td>\n",
              "      <td>Seattle</td>\n",
              "    </tr>\n",
              "    <tr>\n",
              "      <th>25115</th>\n",
              "      <td>319669</td>\n",
              "      <td>Wired Headphones</td>\n",
              "      <td>1.0</td>\n",
              "      <td>11.99</td>\n",
              "      <td>12/03/19 10:39</td>\n",
              "      <td>778 River St, Dallas, TX 75001</td>\n",
              "      <td>Dec</td>\n",
              "      <td>11.99</td>\n",
              "      <td>Dallas</td>\n",
              "    </tr>\n",
              "    <tr>\n",
              "      <th>25116</th>\n",
              "      <td>319670</td>\n",
              "      <td>Bose SoundSport Headphones</td>\n",
              "      <td>1.0</td>\n",
              "      <td>99.99</td>\n",
              "      <td>12/21/19 21:45</td>\n",
              "      <td>747 Chestnut St, Los Angeles, CA 90001</td>\n",
              "      <td>Dec</td>\n",
              "      <td>99.99</td>\n",
              "      <td>Los Angeles</td>\n",
              "    </tr>\n",
              "  </tbody>\n",
              "</table>\n",
              "<p>185950 rows × 9 columns</p>\n",
              "</div>"
            ],
            "text/plain": [
              "      Order ID                     Product  ...   Sales            City\n",
              "0       141234                      iPhone  ...  700.00          Boston\n",
              "1       141235    Lightning Charging Cable  ...   14.95        Portland\n",
              "2       141236            Wired Headphones  ...   23.98   San Francisco\n",
              "3       141237            27in FHD Monitor  ...  149.99     Los Angeles\n",
              "4       141238            Wired Headphones  ...   11.99          Austin\n",
              "...        ...                         ...  ...     ...             ...\n",
              "25112   319666    Lightning Charging Cable  ...   14.95   San Francisco\n",
              "25113   319667       AA Batteries (4-pack)  ...    7.68     Los Angeles\n",
              "25114   319668             Vareebadd Phone  ...  400.00         Seattle\n",
              "25115   319669            Wired Headphones  ...   11.99          Dallas\n",
              "25116   319670  Bose SoundSport Headphones  ...   99.99     Los Angeles\n",
              "\n",
              "[185950 rows x 9 columns]"
            ]
          },
          "metadata": {
            "tags": []
          },
          "execution_count": 34
        }
      ]
    },
    {
      "cell_type": "markdown",
      "metadata": {
        "id": "nUKbB8b3UowB"
      },
      "source": [
        "Find the total sales for each city."
      ]
    },
    {
      "cell_type": "code",
      "metadata": {
        "id": "Ny5TTv8Omyov",
        "colab": {
          "base_uri": "https://localhost:8080/"
        },
        "outputId": "4afb164b-c043-400b-cd8a-4dd1a0613544"
      },
      "source": [
        "df_city=Dataframe_filtered.groupby([\"City\"])['Sales'].sum().sort_values(ascending=False)\n",
        "df_city=df_city.to_frame()\n",
        "df_city"
      ],
      "execution_count": null,
      "outputs": [
        {
          "output_type": "execute_result",
          "data": {
            "text/html": [
              "<div>\n",
              "<style scoped>\n",
              "    .dataframe tbody tr th:only-of-type {\n",
              "        vertical-align: middle;\n",
              "    }\n",
              "\n",
              "    .dataframe tbody tr th {\n",
              "        vertical-align: top;\n",
              "    }\n",
              "\n",
              "    .dataframe thead th {\n",
              "        text-align: right;\n",
              "    }\n",
              "</style>\n",
              "<table border=\"1\" class=\"dataframe\">\n",
              "  <thead>\n",
              "    <tr style=\"text-align: right;\">\n",
              "      <th></th>\n",
              "      <th>Sales</th>\n",
              "    </tr>\n",
              "    <tr>\n",
              "      <th>City</th>\n",
              "      <th></th>\n",
              "    </tr>\n",
              "  </thead>\n",
              "  <tbody>\n",
              "    <tr>\n",
              "      <th>San Francisco</th>\n",
              "      <td>8.262204e+06</td>\n",
              "    </tr>\n",
              "    <tr>\n",
              "      <th>Los Angeles</th>\n",
              "      <td>5.452571e+06</td>\n",
              "    </tr>\n",
              "    <tr>\n",
              "      <th>New York City</th>\n",
              "      <td>4.664317e+06</td>\n",
              "    </tr>\n",
              "    <tr>\n",
              "      <th>Boston</th>\n",
              "      <td>3.661642e+06</td>\n",
              "    </tr>\n",
              "    <tr>\n",
              "      <th>Atlanta</th>\n",
              "      <td>2.795499e+06</td>\n",
              "    </tr>\n",
              "    <tr>\n",
              "      <th>Dallas</th>\n",
              "      <td>2.767975e+06</td>\n",
              "    </tr>\n",
              "    <tr>\n",
              "      <th>Seattle</th>\n",
              "      <td>2.747755e+06</td>\n",
              "    </tr>\n",
              "    <tr>\n",
              "      <th>Portland</th>\n",
              "      <td>2.320491e+06</td>\n",
              "    </tr>\n",
              "    <tr>\n",
              "      <th>Austin</th>\n",
              "      <td>1.819582e+06</td>\n",
              "    </tr>\n",
              "  </tbody>\n",
              "</table>\n",
              "</div>"
            ],
            "text/plain": [
              "                       Sales\n",
              "City                        \n",
              " San Francisco  8.262204e+06\n",
              " Los Angeles    5.452571e+06\n",
              " New York City  4.664317e+06\n",
              " Boston         3.661642e+06\n",
              " Atlanta        2.795499e+06\n",
              " Dallas         2.767975e+06\n",
              " Seattle        2.747755e+06\n",
              " Portland       2.320491e+06\n",
              " Austin         1.819582e+06"
            ]
          },
          "metadata": {
            "tags": []
          },
          "execution_count": 35
        }
      ]
    },
    {
      "cell_type": "code",
      "metadata": {
        "id": "SLuhGqgimymJ",
        "colab": {
          "base_uri": "https://localhost:8080/"
        },
        "outputId": "7b5be669-552e-429e-fdc2-10e6863736a3"
      },
      "source": [
        "fig = plt.figure(figsize = (15, 8))\n",
        "city=[\"San Francisco\",\"Los Angeles\",\"New York City\",\"Boston\",\"Atlanta\",\"Dallas\",\"Seattle\",\"Portland\",\"Austin\"]\n",
        "df_city[\"city\"]=city\n",
        "sns.barplot(x = \"city\" ,y = \"Sales\",data = df_city)\n",
        "plt.title(\"City wise Sales\")\n",
        "plt.show()"
      ],
      "execution_count": null,
      "outputs": [
        {
          "output_type": "display_data",
          "data": {
            "image/png": "[encoded data removed]",
            "text/plain": [
              "<Figure size 1080x576 with 1 Axes>"
            ]
          },
          "metadata": {
            "tags": [],
            "needs_background": "light"
          }
        }
      ]
    },
    {
      "cell_type": "markdown",
      "metadata": {
        "id": "xZQAXgOsVe6i"
      },
      "source": [
        "San Francisco is the top selling location."
      ]
    },
    {
      "cell_type": "markdown",
      "metadata": {
        "id": "u1oc5xbkON0_"
      },
      "source": [
        "## **Decide on the optimal time frame to maximize the likelihood of customers purchasing the products ?**"
      ]
    },
    {
      "cell_type": "markdown",
      "metadata": {
        "id": "r9udmPhfW8Iv"
      },
      "source": [
        "Find out in which times the sales are taking place."
      ]
    },
    {
      "cell_type": "code",
      "metadata": {
        "id": "XvD29vLQmyjG",
        "colab": {
          "base_uri": "https://localhost:8080/"
        },
        "outputId": "d2e6cbd0-4f61-4c91-c6d1-1b7648de7715"
      },
      "source": [
        "df_time = Dataframe_filtered\n",
        "Time = []\n",
        "for i in df_time['Order Date']:\n",
        "    Time.append(i.split(\" \")[1])\n",
        "df_time['Time'] = Time\n",
        "df_time"
      ],
      "execution_count": null,
      "outputs": [
        {
          "output_type": "stream",
          "text": [
            "/usr/local/lib/python3.7/dist-packages/ipykernel_launcher.py:5: SettingWithCopyWarning: \n",
            "A value is trying to be set on a copy of a slice from a DataFrame.\n",
            "Try using .loc[row_indexer,col_indexer] = value instead\n",
            "\n",
            "See the caveats in the documentation: https://pandas.pydata.org/pandas-docs/stable/user_guide/indexing.html#returning-a-view-versus-a-copy\n",
            "  \"\"\"\n"
          ],
          "name": "stderr"
        },
        {
          "output_type": "execute_result",
          "data": {
            "text/html": [
              "<div>\n",
              "<style scoped>\n",
              "    .dataframe tbody tr th:only-of-type {\n",
              "        vertical-align: middle;\n",
              "    }\n",
              "\n",
              "    .dataframe tbody tr th {\n",
              "        vertical-align: top;\n",
              "    }\n",
              "\n",
              "    .dataframe thead th {\n",
              "        text-align: right;\n",
              "    }\n",
              "</style>\n",
              "<table border=\"1\" class=\"dataframe\">\n",
              "  <thead>\n",
              "    <tr style=\"text-align: right;\">\n",
              "      <th></th>\n",
              "      <th>Order ID</th>\n",
              "      <th>Product</th>\n",
              "      <th>Quantity Ordered</th>\n",
              "      <th>Price Each</th>\n",
              "      <th>Order Date</th>\n",
              "      <th>Purchase Address</th>\n",
              "      <th>Month</th>\n",
              "      <th>Sales</th>\n",
              "      <th>City</th>\n",
              "      <th>Time</th>\n",
              "    </tr>\n",
              "  </thead>\n",
              "  <tbody>\n",
              "    <tr>\n",
              "      <th>0</th>\n",
              "      <td>141234</td>\n",
              "      <td>iPhone</td>\n",
              "      <td>1.0</td>\n",
              "      <td>700.00</td>\n",
              "      <td>01/22/19 21:25</td>\n",
              "      <td>944 Walnut St, Boston, MA 02215</td>\n",
              "      <td>Jan</td>\n",
              "      <td>700.00</td>\n",
              "      <td>Boston</td>\n",
              "      <td>21:25</td>\n",
              "    </tr>\n",
              "    <tr>\n",
              "      <th>1</th>\n",
              "      <td>141235</td>\n",
              "      <td>Lightning Charging Cable</td>\n",
              "      <td>1.0</td>\n",
              "      <td>14.95</td>\n",
              "      <td>01/28/19 14:15</td>\n",
              "      <td>185 Maple St, Portland, OR 97035</td>\n",
              "      <td>Jan</td>\n",
              "      <td>14.95</td>\n",
              "      <td>Portland</td>\n",
              "      <td>14:15</td>\n",
              "    </tr>\n",
              "    <tr>\n",
              "      <th>2</th>\n",
              "      <td>141236</td>\n",
              "      <td>Wired Headphones</td>\n",
              "      <td>2.0</td>\n",
              "      <td>11.99</td>\n",
              "      <td>01/17/19 13:33</td>\n",
              "      <td>538 Adams St, San Francisco, CA 94016</td>\n",
              "      <td>Jan</td>\n",
              "      <td>23.98</td>\n",
              "      <td>San Francisco</td>\n",
              "      <td>13:33</td>\n",
              "    </tr>\n",
              "    <tr>\n",
              "      <th>3</th>\n",
              "      <td>141237</td>\n",
              "      <td>27in FHD Monitor</td>\n",
              "      <td>1.0</td>\n",
              "      <td>149.99</td>\n",
              "      <td>01/05/19 20:33</td>\n",
              "      <td>738 10th St, Los Angeles, CA 90001</td>\n",
              "      <td>Jan</td>\n",
              "      <td>149.99</td>\n",
              "      <td>Los Angeles</td>\n",
              "      <td>20:33</td>\n",
              "    </tr>\n",
              "    <tr>\n",
              "      <th>4</th>\n",
              "      <td>141238</td>\n",
              "      <td>Wired Headphones</td>\n",
              "      <td>1.0</td>\n",
              "      <td>11.99</td>\n",
              "      <td>01/25/19 11:59</td>\n",
              "      <td>387 10th St, Austin, TX 73301</td>\n",
              "      <td>Jan</td>\n",
              "      <td>11.99</td>\n",
              "      <td>Austin</td>\n",
              "      <td>11:59</td>\n",
              "    </tr>\n",
              "    <tr>\n",
              "      <th>...</th>\n",
              "      <td>...</td>\n",
              "      <td>...</td>\n",
              "      <td>...</td>\n",
              "      <td>...</td>\n",
              "      <td>...</td>\n",
              "      <td>...</td>\n",
              "      <td>...</td>\n",
              "      <td>...</td>\n",
              "      <td>...</td>\n",
              "      <td>...</td>\n",
              "    </tr>\n",
              "    <tr>\n",
              "      <th>25112</th>\n",
              "      <td>319666</td>\n",
              "      <td>Lightning Charging Cable</td>\n",
              "      <td>1.0</td>\n",
              "      <td>14.95</td>\n",
              "      <td>12/11/19 20:58</td>\n",
              "      <td>14 Madison St, San Francisco, CA 94016</td>\n",
              "      <td>Dec</td>\n",
              "      <td>14.95</td>\n",
              "      <td>San Francisco</td>\n",
              "      <td>20:58</td>\n",
              "    </tr>\n",
              "    <tr>\n",
              "      <th>25113</th>\n",
              "      <td>319667</td>\n",
              "      <td>AA Batteries (4-pack)</td>\n",
              "      <td>2.0</td>\n",
              "      <td>3.84</td>\n",
              "      <td>12/01/19 12:01</td>\n",
              "      <td>549 Willow St, Los Angeles, CA 90001</td>\n",
              "      <td>Dec</td>\n",
              "      <td>7.68</td>\n",
              "      <td>Los Angeles</td>\n",
              "      <td>12:01</td>\n",
              "    </tr>\n",
              "    <tr>\n",
              "      <th>25114</th>\n",
              "      <td>319668</td>\n",
              "      <td>Vareebadd Phone</td>\n",
              "      <td>1.0</td>\n",
              "      <td>400.00</td>\n",
              "      <td>12/09/19 06:43</td>\n",
              "      <td>273 Wilson St, Seattle, WA 98101</td>\n",
              "      <td>Dec</td>\n",
              "      <td>400.00</td>\n",
              "      <td>Seattle</td>\n",
              "      <td>06:43</td>\n",
              "    </tr>\n",
              "    <tr>\n",
              "      <th>25115</th>\n",
              "      <td>319669</td>\n",
              "      <td>Wired Headphones</td>\n",
              "      <td>1.0</td>\n",
              "      <td>11.99</td>\n",
              "      <td>12/03/19 10:39</td>\n",
              "      <td>778 River St, Dallas, TX 75001</td>\n",
              "      <td>Dec</td>\n",
              "      <td>11.99</td>\n",
              "      <td>Dallas</td>\n",
              "      <td>10:39</td>\n",
              "    </tr>\n",
              "    <tr>\n",
              "      <th>25116</th>\n",
              "      <td>319670</td>\n",
              "      <td>Bose SoundSport Headphones</td>\n",
              "      <td>1.0</td>\n",
              "      <td>99.99</td>\n",
              "      <td>12/21/19 21:45</td>\n",
              "      <td>747 Chestnut St, Los Angeles, CA 90001</td>\n",
              "      <td>Dec</td>\n",
              "      <td>99.99</td>\n",
              "      <td>Los Angeles</td>\n",
              "      <td>21:45</td>\n",
              "    </tr>\n",
              "  </tbody>\n",
              "</table>\n",
              "<p>185950 rows × 10 columns</p>\n",
              "</div>"
            ],
            "text/plain": [
              "      Order ID                     Product  ...            City   Time\n",
              "0       141234                      iPhone  ...          Boston  21:25\n",
              "1       141235    Lightning Charging Cable  ...        Portland  14:15\n",
              "2       141236            Wired Headphones  ...   San Francisco  13:33\n",
              "3       141237            27in FHD Monitor  ...     Los Angeles  20:33\n",
              "4       141238            Wired Headphones  ...          Austin  11:59\n",
              "...        ...                         ...  ...             ...    ...\n",
              "25112   319666    Lightning Charging Cable  ...   San Francisco  20:58\n",
              "25113   319667       AA Batteries (4-pack)  ...     Los Angeles  12:01\n",
              "25114   319668             Vareebadd Phone  ...         Seattle  06:43\n",
              "25115   319669            Wired Headphones  ...          Dallas  10:39\n",
              "25116   319670  Bose SoundSport Headphones  ...     Los Angeles  21:45\n",
              "\n",
              "[185950 rows x 10 columns]"
            ]
          },
          "metadata": {
            "tags": []
          },
          "execution_count": 37
        }
      ]
    },
    {
      "cell_type": "code",
      "metadata": {
        "colab": {
          "base_uri": "https://localhost:8080/"
        },
        "id": "HkDVW_UT97p7",
        "outputId": "1de96c87-568f-40e5-d637-7d82634f5ed0"
      },
      "source": [
        "df_time=Dataframe_filtered.groupby(['Time'])['Sales'].sum().sort_values(ascending=False)\n",
        "df_time=df_time.to_frame()\n",
        "df_time"
      ],
      "execution_count": null,
      "outputs": [
        {
          "output_type": "execute_result",
          "data": {
            "text/html": [
              "<div>\n",
              "<style scoped>\n",
              "    .dataframe tbody tr th:only-of-type {\n",
              "        vertical-align: middle;\n",
              "    }\n",
              "\n",
              "    .dataframe tbody tr th {\n",
              "        vertical-align: top;\n",
              "    }\n",
              "\n",
              "    .dataframe thead th {\n",
              "        text-align: right;\n",
              "    }\n",
              "</style>\n",
              "<table border=\"1\" class=\"dataframe\">\n",
              "  <thead>\n",
              "    <tr style=\"text-align: right;\">\n",
              "      <th></th>\n",
              "      <th>Sales</th>\n",
              "    </tr>\n",
              "    <tr>\n",
              "      <th>Time</th>\n",
              "      <th></th>\n",
              "    </tr>\n",
              "  </thead>\n",
              "  <tbody>\n",
              "    <tr>\n",
              "      <th>19:01</th>\n",
              "      <td>54503.14</td>\n",
              "    </tr>\n",
              "    <tr>\n",
              "      <th>12:21</th>\n",
              "      <td>54181.96</td>\n",
              "    </tr>\n",
              "    <tr>\n",
              "      <th>19:16</th>\n",
              "      <td>54156.39</td>\n",
              "    </tr>\n",
              "    <tr>\n",
              "      <th>20:13</th>\n",
              "      <td>53149.51</td>\n",
              "    </tr>\n",
              "    <tr>\n",
              "      <th>19:20</th>\n",
              "      <td>52903.41</td>\n",
              "    </tr>\n",
              "    <tr>\n",
              "      <th>...</th>\n",
              "      <td>...</td>\n",
              "    </tr>\n",
              "    <tr>\n",
              "      <th>02:50</th>\n",
              "      <td>381.99</td>\n",
              "    </tr>\n",
              "    <tr>\n",
              "      <th>03:57</th>\n",
              "      <td>317.63</td>\n",
              "    </tr>\n",
              "    <tr>\n",
              "      <th>04:05</th>\n",
              "      <td>277.72</td>\n",
              "    </tr>\n",
              "    <tr>\n",
              "      <th>03:59</th>\n",
              "      <td>177.29</td>\n",
              "    </tr>\n",
              "    <tr>\n",
              "      <th>04:09</th>\n",
              "      <td>173.52</td>\n",
              "    </tr>\n",
              "  </tbody>\n",
              "</table>\n",
              "<p>1440 rows × 1 columns</p>\n",
              "</div>"
            ],
            "text/plain": [
              "          Sales\n",
              "Time           \n",
              "19:01  54503.14\n",
              "12:21  54181.96\n",
              "19:16  54156.39\n",
              "20:13  53149.51\n",
              "19:20  52903.41\n",
              "...         ...\n",
              "02:50    381.99\n",
              "03:57    317.63\n",
              "04:05    277.72\n",
              "03:59    177.29\n",
              "04:09    173.52\n",
              "\n",
              "[1440 rows x 1 columns]"
            ]
          },
          "metadata": {
            "tags": []
          },
          "execution_count": 38
        }
      ]
    },
    {
      "cell_type": "markdown",
      "metadata": {
        "id": "RahfnwBUWk4M"
      },
      "source": [
        "The best time for display advertising is 19:01."
      ]
    },
    {
      "cell_type": "markdown",
      "metadata": {
        "id": "QN8nvRF-O9_C"
      },
      "source": [
        "## **Which products sold the most ?**"
      ]
    },
    {
      "cell_type": "markdown",
      "metadata": {
        "id": "uQghRsOYX8VS"
      },
      "source": [
        "Check out the total sales of the products."
      ]
    },
    {
      "cell_type": "code",
      "metadata": {
        "colab": {
          "base_uri": "https://localhost:8080/",
          "height": 669
        },
        "id": "kf5fpwmh97e_",
        "outputId": "8cce443d-8bb7-4cd9-9e56-c9077cd2cdeb"
      },
      "source": [
        "df_product\t=Dataframe_filtered.groupby(['Product'])['Quantity Ordered'].sum().sort_values(ascending=False)\n",
        "df_product=df_product.to_frame()\n",
        "df_product"
      ],
      "execution_count": null,
      "outputs": [
        {
          "output_type": "execute_result",
          "data": {
            "text/html": [
              "<div>\n",
              "<style scoped>\n",
              "    .dataframe tbody tr th:only-of-type {\n",
              "        vertical-align: middle;\n",
              "    }\n",
              "\n",
              "    .dataframe tbody tr th {\n",
              "        vertical-align: top;\n",
              "    }\n",
              "\n",
              "    .dataframe thead th {\n",
              "        text-align: right;\n",
              "    }\n",
              "</style>\n",
              "<table border=\"1\" class=\"dataframe\">\n",
              "  <thead>\n",
              "    <tr style=\"text-align: right;\">\n",
              "      <th></th>\n",
              "      <th>Quantity Ordered</th>\n",
              "    </tr>\n",
              "    <tr>\n",
              "      <th>Product</th>\n",
              "      <th></th>\n",
              "    </tr>\n",
              "  </thead>\n",
              "  <tbody>\n",
              "    <tr>\n",
              "      <th>AAA Batteries (4-pack)</th>\n",
              "      <td>31017.0</td>\n",
              "    </tr>\n",
              "    <tr>\n",
              "      <th>AA Batteries (4-pack)</th>\n",
              "      <td>27635.0</td>\n",
              "    </tr>\n",
              "    <tr>\n",
              "      <th>USB-C Charging Cable</th>\n",
              "      <td>23975.0</td>\n",
              "    </tr>\n",
              "    <tr>\n",
              "      <th>Lightning Charging Cable</th>\n",
              "      <td>23217.0</td>\n",
              "    </tr>\n",
              "    <tr>\n",
              "      <th>Wired Headphones</th>\n",
              "      <td>20557.0</td>\n",
              "    </tr>\n",
              "    <tr>\n",
              "      <th>Apple Airpods Headphones</th>\n",
              "      <td>15661.0</td>\n",
              "    </tr>\n",
              "    <tr>\n",
              "      <th>Bose SoundSport Headphones</th>\n",
              "      <td>13457.0</td>\n",
              "    </tr>\n",
              "    <tr>\n",
              "      <th>27in FHD Monitor</th>\n",
              "      <td>7550.0</td>\n",
              "    </tr>\n",
              "    <tr>\n",
              "      <th>iPhone</th>\n",
              "      <td>6849.0</td>\n",
              "    </tr>\n",
              "    <tr>\n",
              "      <th>27in 4K Gaming Monitor</th>\n",
              "      <td>6244.0</td>\n",
              "    </tr>\n",
              "    <tr>\n",
              "      <th>34in Ultrawide Monitor</th>\n",
              "      <td>6199.0</td>\n",
              "    </tr>\n",
              "    <tr>\n",
              "      <th>Google Phone</th>\n",
              "      <td>5532.0</td>\n",
              "    </tr>\n",
              "    <tr>\n",
              "      <th>Flatscreen TV</th>\n",
              "      <td>4819.0</td>\n",
              "    </tr>\n",
              "    <tr>\n",
              "      <th>Macbook Pro Laptop</th>\n",
              "      <td>4728.0</td>\n",
              "    </tr>\n",
              "    <tr>\n",
              "      <th>ThinkPad Laptop</th>\n",
              "      <td>4130.0</td>\n",
              "    </tr>\n",
              "    <tr>\n",
              "      <th>20in Monitor</th>\n",
              "      <td>4129.0</td>\n",
              "    </tr>\n",
              "    <tr>\n",
              "      <th>Vareebadd Phone</th>\n",
              "      <td>2068.0</td>\n",
              "    </tr>\n",
              "    <tr>\n",
              "      <th>LG Washing Machine</th>\n",
              "      <td>666.0</td>\n",
              "    </tr>\n",
              "    <tr>\n",
              "      <th>LG Dryer</th>\n",
              "      <td>646.0</td>\n",
              "    </tr>\n",
              "  </tbody>\n",
              "</table>\n",
              "</div>"
            ],
            "text/plain": [
              "                            Quantity Ordered\n",
              "Product                                     \n",
              "AAA Batteries (4-pack)               31017.0\n",
              "AA Batteries (4-pack)                27635.0\n",
              "USB-C Charging Cable                 23975.0\n",
              "Lightning Charging Cable             23217.0\n",
              "Wired Headphones                     20557.0\n",
              "Apple Airpods Headphones             15661.0\n",
              "Bose SoundSport Headphones           13457.0\n",
              "27in FHD Monitor                      7550.0\n",
              "iPhone                                6849.0\n",
              "27in 4K Gaming Monitor                6244.0\n",
              "34in Ultrawide Monitor                6199.0\n",
              "Google Phone                          5532.0\n",
              "Flatscreen TV                         4819.0\n",
              "Macbook Pro Laptop                    4728.0\n",
              "ThinkPad Laptop                       4130.0\n",
              "20in Monitor                          4129.0\n",
              "Vareebadd Phone                       2068.0\n",
              "LG Washing Machine                     666.0\n",
              "LG Dryer                               646.0"
            ]
          },
          "metadata": {
            "tags": []
          },
          "execution_count": 39
        }
      ]
    },
    {
      "cell_type": "code",
      "metadata": {
        "colab": {
          "base_uri": "https://localhost:8080/",
          "height": 581
        },
        "id": "TabPBtw2-XIL",
        "outputId": "9ed9504d-e2c8-4953-e382-64548d36e643"
      },
      "source": [
        "fig = plt.figure(figsize = (15, 8))\n",
        "product=[\"AAA Batteries (4-pack)\",\"AA Batteries (4-pack)\",\"USB-C Charging Cable\",\"Lightning Charging Cable\",\"Wired Headphones\",\"Apple Airpods Headphones\",\"Bose SoundSport Headphones\t\",\"27in FHD Monitor\",\"iPhone\",\"27in 4K Gaming Monitor\",\"34in Ultrawide Monitor\",\"Google Phone\",\"Flatscreen TV\",\"Macbook Pro Laptop\",\"ThinkPad Laptop\",\"20in Monitor\",\"Vareebadd Phone\",\"LG Washing Machine\",\"LG Dryer\"]\n",
        "df_product[\"Product\"]=product\n",
        "sns.barplot(x = \"Quantity Ordered\",y = \"Product\",data = df_product)\n",
        "plt.title(\"Prouct and Quantity Ordered\")\n",
        "plt.show()"
      ],
      "execution_count": null,
      "outputs": [
        {
          "output_type": "stream",
          "text": [
            "/usr/local/lib/python3.7/dist-packages/matplotlib/backends/backend_agg.py:214: RuntimeWarning: Glyph 9 missing from current font.\n",
            "  font.set_text(s, 0.0, flags=flags)\n",
            "/usr/local/lib/python3.7/dist-packages/matplotlib/backends/backend_agg.py:183: RuntimeWarning: Glyph 9 missing from current font.\n",
            "  font.set_text(s, 0, flags=flags)\n"
          ],
          "name": "stderr"
        },
        {
          "output_type": "display_data",
          "data": {
            "image/png": "[encoded data removed]",
            "text/plain": [
              "<Figure size 1080x576 with 1 Axes>"
            ]
          },
          "metadata": {
            "tags": [],
            "needs_background": "light"
          }
        }
      ]
    },
    {
      "cell_type": "markdown",
      "metadata": {
        "id": "3ArdVkjFXOjM"
      },
      "source": [
        "Top 3 products:\n",
        "\n",
        "1.   AAA Batteries (4-pack)\n",
        "2.   AA Batteries (4-pack)\n",
        "3.   USB-C Charging Cable\n",
        "\n",
        "\n",
        "\n"
      ]
    }
  ]
}